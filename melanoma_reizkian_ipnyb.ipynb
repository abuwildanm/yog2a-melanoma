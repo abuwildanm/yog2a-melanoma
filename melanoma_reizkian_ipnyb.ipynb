{
  "nbformat": 4,
  "nbformat_minor": 0,
  "metadata": {
    "colab": {
      "name": "melanoma_reizkian.ipnyb",
      "provenance": [],
      "private_outputs": true,
      "include_colab_link": true
    },
    "kernelspec": {
      "name": "python3",
      "display_name": "Python 3"
    }
  },
  "cells": [
    {
      "cell_type": "markdown",
      "metadata": {
        "id": "view-in-github",
        "colab_type": "text"
      },
      "source": [
        "<a href=\"https://colab.research.google.com/github/virgiawan/yog2a-melanoma/blob/master/melanoma_reizkian_ipnyb.ipynb\" target=\"_parent\"><img src=\"https://colab.research.google.com/assets/colab-badge.svg\" alt=\"Open In Colab\"/></a>"
      ]
    },
    {
      "cell_type": "markdown",
      "metadata": {
        "id": "CsCQUOO1N_iP",
        "colab_type": "text"
      },
      "source": [
        "# **MELANOMA PREDICTION, mnist dataset**\n"
      ]
    },
    {
      "cell_type": "markdown",
      "metadata": {
        "id": "YTPUdDXNOQSs",
        "colab_type": "text"
      },
      "source": [
        "## Load and prepare data\n",
        "\n",
        "dataset from \n",
        "https://www.kaggle.com/kmader/skin-cancer-mnist-ham10000"
      ]
    },
    {
      "cell_type": "code",
      "metadata": {
        "id": "zei76f0Ejw9Q",
        "colab_type": "code",
        "colab": {}
      },
      "source": [
        "import csv\n",
        "import numpy as np\n",
        "import tensorflow as tf\n",
        "import pandas as pd\n",
        "from tensorflow.keras.preprocessing.image import ImageDataGenerator"
      ],
      "execution_count": 0,
      "outputs": []
    },
    {
      "cell_type": "code",
      "metadata": {
        "id": "70KjFddfPJjz",
        "colab_type": "code",
        "colab": {}
      },
      "source": [
        "from google.colab import files\n",
        "files.upload() # upload kaggle.json"
      ],
      "execution_count": 0,
      "outputs": []
    },
    {
      "cell_type": "code",
      "metadata": {
        "id": "Xy_xEojBlL79",
        "colab_type": "code",
        "colab": {}
      },
      "source": [
        "# CODE: enabling import data from kaggle\n",
        "# Install kaggle library \n",
        "!pip install -q kaggle\n",
        "# Make \".kaggle\" directory in root directory\n",
        "!mkdir -p ~/.kaggle\n",
        "# Copy the API token to the kaggle directory\n",
        "!cp kaggle.json ~/.kaggle/\n",
        "# Check the directory\n",
        "!ls ~/.kaggle\n",
        "# Adjust access permissions\n",
        "!chmod 600 /root/.kaggle/kaggle.json"
      ],
      "execution_count": 0,
      "outputs": []
    },
    {
      "cell_type": "code",
      "metadata": {
        "id": "OvVwBUnklvc-",
        "colab_type": "code",
        "colab": {}
      },
      "source": [
        "# Download the data\n",
        "!kaggle datasets download -d kmader/skin-cancer-mnist-ham10000"
      ],
      "execution_count": 0,
      "outputs": []
    },
    {
      "cell_type": "code",
      "metadata": {
        "id": "nVALZYeume_c",
        "colab_type": "code",
        "colab": {}
      },
      "source": [
        "# unzip data\n",
        "!unzip -q skin-cancer-mnist-ham10000.zip -d .\n",
        "!ls"
      ],
      "execution_count": 0,
      "outputs": []
    },
    {
      "cell_type": "code",
      "metadata": {
        "id": "tblBTxfDFMLs",
        "colab_type": "code",
        "colab": {}
      },
      "source": [
        "meta_file = 'HAM10000_metadata.csv'\n",
        "bw_file = 'hmnist_28_28_L.csv'        # black white dataset\n",
        "rgb_file = 'hmnist_28_28_RGB.csv'     # rgb dataset"
      ],
      "execution_count": 0,
      "outputs": []
    },
    {
      "cell_type": "code",
      "metadata": {
        "id": "Of2yiJjUFex4",
        "colab_type": "code",
        "colab": {}
      },
      "source": [
        "# BLACK and WHITE extract pixel and labels from csv\n",
        "with open(bw_file, newline='') as opened_file: #images\n",
        "  reader = csv.reader(opened_file)\n",
        "  bw_images_dataset=[]\n",
        "  for row in reader:\n",
        "    img = row[0:784]\n",
        "    img2d = np.array_split(img,28)\n",
        "    bw_images_dataset.append(img2d)\n",
        "  bw_images_dataset = bw_images_dataset[1:]\n",
        "  bw_images_dataset = np.array(bw_images_dataset, dtype=np.int)\n",
        "\n",
        "with open(bw_file, newline='') as opened_file: #labels\n",
        "  reader = csv.reader(opened_file)\n",
        "  bw_labels_dataset = []\n",
        "  for row in reader:\n",
        "      label=row[784]\n",
        "      bw_labels_dataset.append(label)\n",
        "  bw_labels_dataset = bw_labels_dataset[1:]\n",
        "  bw_labels_dataset = np.array(bw_labels_dataset, dtype=np.int)\n",
        "  bw_labels = bw_labels_dataset\n",
        "\n",
        "# 10015 images, 28x28 dimension, BW\n",
        "print(bw_images_dataset.shape)\n",
        "print(bw_labels.shape)"
      ],
      "execution_count": 0,
      "outputs": []
    },
    {
      "cell_type": "code",
      "metadata": {
        "id": "1rIlbZO9fla8",
        "colab_type": "code",
        "colab": {}
      },
      "source": [
        "# RGB extract pixel and labels from csv\n",
        "with open(rgb_file, newline='') as opened_file: #images\n",
        "  reader = csv.reader(opened_file)\n",
        "  rgb_images_dataset=[]\n",
        "  for row in reader:\n",
        "    r=np.array(row[0:784])\n",
        "    g=np.array(row[784:1568])\n",
        "    b=np.array(row[1568:2352])\n",
        "    R = np.array_split(r,28)\n",
        "    G = np.array_split(r,28)\n",
        "    B = np.array_split(r,28)\n",
        "    image = np.dstack((R,G,B))\n",
        "    rgb_images_dataset.append(image)\n",
        "  rgb_images_dataset = rgb_images_dataset[1:]\n",
        "  rgb_images_dataset = np.array(rgb_images_dataset, dtype=np.int)\n",
        "\n",
        "with open(rgb_file, newline='') as opened_file: #labels\n",
        "  reader = csv.reader(opened_file)\n",
        "  rgb_labels_dataset = []\n",
        "  for row in reader:\n",
        "      label=row[2353]\n",
        "      rgb_labels_dataset.append(label)\n",
        "  rgb_labels_dataset = rgb_labels_dataset[1:]\n",
        "  rgb_labels_dataset = np.array(rgb_labels_dataset, dtype=np.int)\n",
        "  rgb_labels = rgb_labels_dataset\n",
        "\n",
        "# 10015 images, 28x28 dimension, RGB\n",
        "print(rgb_images_dataset.shape)\n",
        "print(rgb_labels.shape)"
      ],
      "execution_count": 0,
      "outputs": []
    },
    {
      "cell_type": "code",
      "metadata": {
        "id": "InNKsRloJP9I",
        "colab_type": "code",
        "colab": {}
      },
      "source": [
        "train_fraction = 0.7 # fraction frow whole images dataset choosed for training BW\n",
        "\n",
        "# train dataset BW\n",
        "trainImagesBW = bw_images_dataset[:int(bw_images_dataset.shape[0]*train_fraction)][:][:]\n",
        "trainLabelsBW = bw_labels_dataset[:int(bw_labels_dataset.shape[0]*train_fraction)][:][:]\n",
        "# test dataset BW\n",
        "testImagesBW = bw_images_dataset[int(bw_images_dataset.shape[0]*train_fraction):][:][:]\n",
        "testLabelsBW = bw_labels_dataset[int(bw_labels_dataset.shape[0]*train_fraction):][:][:]\n",
        "\n",
        "print(trainImages.shape)\n",
        "print(trainLabels.shape)\n",
        "print(testImages.shape)\n",
        "print(testLabels.shape)"
      ],
      "execution_count": 0,
      "outputs": []
    },
    {
      "cell_type": "code",
      "metadata": {
        "id": "bSgLqZCf6R9t",
        "colab_type": "code",
        "colab": {}
      },
      "source": [
        "train_fraction = 0.7 # fraction frow whole images dataset choosed for training RGB\n",
        "\n",
        "# train dataset BW\n",
        "trainImagesRGB = rgb_images_dataset[:int(rgb_images_dataset.shape[0]*train_fraction)][:][:][:]\n",
        "trainLabelsRGB = rgb_labels_dataset[:int(rgb_labels_dataset.shape[0]*train_fraction)]\n",
        "# test dataset BW\n",
        "testImagesRGB = rgb_images_dataset[int(rgb_images_dataset.shape[0]*train_fraction):][:][:][:]\n",
        "testLabelsRGB = rgb_labels_dataset[int(rgb_labels_dataset.shape[0]*train_fraction):]\n",
        "\n",
        "print(trainImagesRGB.shape)\n",
        "print(trainLabelsRGB.shape)\n",
        "print(testImagesRGB.shape)\n",
        "print(testLabelsRGB.shape)"
      ],
      "execution_count": 0,
      "outputs": []
    },
    {
      "cell_type": "code",
      "metadata": {
        "id": "PGwFUzT9LkyV",
        "colab_type": "code",
        "colab": {}
      },
      "source": [
        "# expanding dimension for the sake of image preporcessing BW\n",
        "trainImages = np.expand_dims(trainImages, axis=3)\n",
        "testImages = np.expand_dims(testImages, axis=3)\n",
        "print(trainImages.shape)\n",
        "print(testImages.shape)"
      ],
      "execution_count": 0,
      "outputs": []
    },
    {
      "cell_type": "markdown",
      "metadata": {
        "id": "dySlWjXWOaAN",
        "colab_type": "text"
      },
      "source": [
        "## Images preprocessing"
      ]
    },
    {
      "cell_type": "code",
      "metadata": {
        "id": "ShueuDDBOeKq",
        "colab_type": "code",
        "colab": {}
      },
      "source": [
        "# Create an ImageDataGenerator and do Image Augmentation\n",
        "train_datagen = ImageDataGenerator(\n",
        "    # Your Code Here\n",
        "    rescale= 1./255,\n",
        "    rotation_range = 40,\n",
        "    shear_range = 0.2,\n",
        "    zoom_range = 0.2,\n",
        "    horizontal_flip = True,\n",
        "    fill_mode = 'nearest'\n",
        "    )\n",
        "\n",
        "validation_datagen = ImageDataGenerator(\n",
        "    # Your Code Here\n",
        "    rescale = 1./255\n",
        "    )"
      ],
      "execution_count": 0,
      "outputs": []
    },
    {
      "cell_type": "markdown",
      "metadata": {
        "id": "GpLeW9TyOjlg",
        "colab_type": "text"
      },
      "source": [
        "## Build Model"
      ]
    },
    {
      "cell_type": "code",
      "metadata": {
        "id": "u7w7FdHZDYmW",
        "colab_type": "code",
        "colab": {}
      },
      "source": [
        "from tensorflow.keras.callbacks import Callback, EarlyStopping\n",
        "\n",
        "class myCallback(Callback):\n",
        "    def on_epoch_end(self, epoch, logs={}):\n",
        "        if(logs.get('accuracy')>0.95):\n",
        "            print(\"\\nReached 95% accuracy so cancelling training!\")\n",
        "            self.model.stop_training = True\n",
        "\n",
        "# callbacks = myCallback()\n",
        "early_stopping = EarlyStopping(monitor='val_loss', patience=3)"
      ],
      "execution_count": 0,
      "outputs": []
    },
    {
      "cell_type": "code",
      "metadata": {
        "id": "AcAOnZAbOoAJ",
        "colab_type": "code",
        "colab": {}
      },
      "source": [
        "model = tf.keras.models.Sequential([\n",
        "    tf.keras.layers.Conv2D(64, (2,2), activation='relu', input_shape=(28, 28, 3)),\n",
        "    tf.keras.layers.MaxPooling2D(2, 2),\n",
        "    tf.keras.layers.Conv2D(64, (2,2), activation='relu'),\n",
        "    tf.keras.layers.MaxPooling2D(2,2),\n",
        "    tf.keras.layers.Flatten(),\n",
        "    tf.keras.layers.Dense(512, activation='relu'),\n",
        "    tf.keras.layers.Dense(256, activation='relu'),\n",
        "    tf.keras.layers.Dense(128, activation='relu'),\n",
        "    tf.keras.layers.Dense(64, activation='relu'),\n",
        "    tf.keras.layers.Dense(32, activation='relu'),\n",
        "    tf.keras.layers.Dense(16, activation='relu'),\n",
        "    tf.keras.layers.Dense(7, activation='softmax')\n",
        "    ])\n",
        "\n",
        "# Compile Model. \n",
        "model.compile(loss = 'sparse_categorical_crossentropy', \n",
        "              optimizer='rmsprop', \n",
        "              metrics=['accuracy']\n",
        "              # Your Code Here\n",
        "             )\n",
        "\n",
        "# Train the Model RGB\n",
        "history = model.fit_generator(\n",
        "            train_datagen.flow(trainImagesRGB,trainLabelsRGB, batch_size=20),\n",
        "            validation_data = (testImagesRGB,testLabelsRGB),\n",
        "            epochs = 50,\n",
        "            verbose=2,\n",
        "            callbacks=[early_stopping])"
      ],
      "execution_count": 0,
      "outputs": []
    },
    {
      "cell_type": "code",
      "metadata": {
        "id": "mKyzrHoaOxqX",
        "colab_type": "code",
        "colab": {}
      },
      "source": [
        "# Plot the chart for accuracy and loss on both training and validation\n",
        "%matplotlib inline\n",
        "import matplotlib.pyplot as plt\n",
        "acc = history.history['accuracy']\n",
        "val_acc = history.history['val_accuracy']\n",
        "loss = history.history['loss']\n",
        "val_loss = history.history['val_loss']\n",
        "\n",
        "epochs = range(len(acc))\n",
        "\n",
        "plt.plot(epochs, acc, 'r', label='Training accuracy')\n",
        "plt.plot(epochs, val_acc, 'b', label='Validation accuracy')\n",
        "plt.title('Training and validation accuracy')\n",
        "plt.legend()\n",
        "plt.figure()\n",
        "\n",
        "plt.plot(epochs, loss, 'r', label='Training Loss')\n",
        "plt.plot(epochs, val_loss, 'b', label='Validation Loss')\n",
        "plt.title('Training and validation loss')\n",
        "plt.legend()\n",
        "\n",
        "plt.show()"
      ],
      "execution_count": 0,
      "outputs": []
    },
    {
      "cell_type": "code",
      "metadata": {
        "id": "oQAVzlB4HfBs",
        "colab_type": "code",
        "colab": {}
      },
      "source": [
        ""
      ],
      "execution_count": 0,
      "outputs": []
    }
  ]
}